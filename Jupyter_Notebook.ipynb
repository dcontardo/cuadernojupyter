{
 "cells": [
  {
   "cell_type": "markdown",
   "metadata": {},
   "source": [
    "<center>\n",
    "    <img src=\"https://cf-courses-data.s3.us.cloud-object-storage.appdomain.cloud/IBMDeveloperSkillsNetwork-DS0105EN-SkillsNetwork/labs/Module2/images/SN_web_lightmode.png\" width=\"300\" alt=\"cognitiveclass.ai logo\">\n",
    "</center>\n"
   ]
  },
  {
   "cell_type": "markdown",
   "metadata": {},
   "source": [
    "#### Add your code below following the instructions given in the course\n"
   ]
  },
  {
   "cell_type": "markdown",
   "metadata": {},
   "source": [
    "# Proyecto Final de Ciencia de Datos"
   ]
  },
  {
   "cell_type": "markdown",
   "metadata": {},
   "source": [
    "## Introducción\n",
    "\n",
    "Este cuaderno es el proyecto final del curso de Ciencia de Datos. A lo largo de este cuaderno, exploraremos conceptos básicos y fundamentales de la ciencia de datos, incluyendo el uso de lenguajes de programación, bibliotecas, herramientas y expresiones aritméticas. \n",
    "\n",
    "Los objetivos de este proyecto son:\n",
    "- Demostrar el conocimiento adquirido en el curso.\n",
    "- Practicar la creación y organización de un cuaderno interactivo utilizando Jupyterlite.\n",
    "- Aprender a compartir el trabajo realizado en plataformas públicas como GitHub.\n",
    "\n",
    "Este cuaderno combina celdas de Markdown y código para crear una presentación clara y completa de los temas abordados.\n"
   ]
  },
  {
   "cell_type": "markdown",
   "metadata": {},
   "source": [
    "## Lenguajes de Programación en Ciencia de Datos\n",
    "\n",
    "A continuación, se presentan algunos de los lenguajes de programación más utilizados en la ciencia de datos:\n",
    "\n",
    "- **Python**: Lenguaje popular y versátil, ampliamente usado por su facilidad de uso y poderosas bibliotecas para análisis y modelado.\n",
    "- **R**: Conocido por sus capacidades estadísticas y de visualización, es ideal para análisis de datos y aplicaciones científicas.\n",
    "- **SQL**: Lenguaje de consulta estructurado, utilizado para gestionar y extraer datos en bases de datos relacionales.\n",
    "- **Julia**: Un lenguaje de alto rendimiento para computación numérica, cada vez más popular en la ciencia de datos.\n",
    "- **Scala**: Utilizado junto con Apache Spark, es una opción popular para el procesamiento de grandes volúmenes de datos.\n",
    "\n",
    "Estos lenguajes permiten a los científicos de datos realizar tareas como análisis, visualización y modelado de datos de manera eficiente.\n"
   ]
  },
  {
   "cell_type": "markdown",
   "metadata": {},
   "source": [
    "## Bibliotecas Populares de Ciencia de Datos\n",
    "\n",
    "Estas son algunas de las bibliotecas más utilizadas en la ciencia de datos:\n",
    "\n",
    "- **Pandas**: Utilizada para manipulación y análisis de datos, facilita el manejo de estructuras de datos como DataFrames.\n",
    "- **NumPy**: Biblioteca fundamental para cálculos numéricos y operaciones con matrices.\n",
    "- **Matplotlib**: Herramienta de visualización que permite crear gráficos estáticos, animados e interactivos en Python.\n",
    "- **Seaborn**: Biblioteca de visualización de datos basada en Matplotlib, diseñada para hacer gráficos estadísticos atractivos y fáciles de interpretar.\n",
    "- **Scikit-Learn**: Biblioteca para aprendizaje automático que incluye herramientas para clasificación, regresión, clustering y reducción de dimensionalidad.\n",
    "- **TensorFlow**: Utilizada para construir y entrenar modelos de aprendizaje profundo, desarrollada por Google.\n",
    "- **Keras**: API de alto nivel para redes neuronales, construida sobre TensorFlow para facilitar el desarrollo de modelos de deep learning.\n",
    "\n",
    "Estas bibliotecas facilitan tareas comunes en ciencia de datos, como la manipulación de datos, la visualización y el desarrollo de modelos de aprendizaje automático.\n"
   ]
  },
  {
   "cell_type": "markdown",
   "metadata": {},
   "source": [
    "| Herramienta            | Descripción                            |\n",
    "|-------------------------|----------------------------------------|\n",
    "| Jupyter Notebooks       | Plataforma para código y análisis      |\n",
    "| RStudio                 | Entorno de desarrollo para R           |\n",
    "| Apache Spark            | Procesamiento distribuido de big data  |\n"
   ]
  },
  {
   "cell_type": "markdown",
   "metadata": {},
   "source": [
    "## Ejemplos de Expresiones Aritméticas\n",
    "\n",
    "En programación y ciencia de datos, las expresiones aritméticas se utilizan para realizar operaciones matemáticas básicas. A continuación, se presentan algunos ejemplos de estas operaciones:\n",
    "\n",
    "- **Suma (+)**: Combina dos o más valores.  \n",
    "  - Ejemplo: `3 + 5 = 8`\n",
    "\n",
    "- **Resta (-)**: Resta un valor de otro.  \n",
    "  - Ejemplo: `10 - 4 = 6`\n",
    "\n",
    "- **Multiplicación (*)**: Multiplica dos o más valores.  \n",
    "  - Ejemplo: `6 * 7 = 42`\n",
    "\n",
    "- **División (/)**: Divide un valor por otro.  \n",
    "  - Ejemplo: `20 / 5 = 4`\n",
    "\n",
    "Estas operaciones son esenciales en análisis de datos y permiten realizar cálculos necesarios para la manipulación y transformación de datos.\n"
   ]
  },
  {
   "cell_type": "code",
   "execution_count": 3,
   "metadata": {},
   "outputs": [
    {
     "data": {
      "text/plain": [
       "17"
      ]
     },
     "execution_count": 3,
     "metadata": {},
     "output_type": "execute_result"
    }
   ],
   "source": [
    "# Ejemplo de multiplicación y suma\n",
    "resultado = (3 * 4) + 5\n",
    "resultado\n"
   ]
  },
  {
   "cell_type": "code",
   "execution_count": 2,
   "metadata": {},
   "outputs": [
    {
     "data": {
      "text/plain": [
       "2.0"
      ]
     },
     "execution_count": 2,
     "metadata": {},
     "output_type": "execute_result"
    }
   ],
   "source": [
    "# Convertir minutos a horas\n",
    "minutos = 120\n",
    "horas = minutos / 60\n",
    "horas\n"
   ]
  },
  {
   "cell_type": "code",
   "execution_count": 1,
   "metadata": {},
   "outputs": [
    {
     "name": "stdout",
     "output_type": "stream",
     "text": [
      "Aprender Python\n",
      "Dominar herramientas de ciencia de datos\n",
      "Crear modelos de ML\n"
     ]
    }
   ],
   "source": [
    "# Lista de objetivos\n",
    "objetivos = [\"Aprender Python\", \"Dominar herramientas de ciencia de datos\", \"Crear modelos de ML\"]\n",
    "for objetivo in objetivos:\n",
    "    print(objetivo)\n"
   ]
  },
  {
   "cell_type": "markdown",
   "metadata": {},
   "source": [
    "## Autor\n",
    "\n",
    "David Contardo\n"
   ]
  }
 ],
 "metadata": {
  "kernelspec": {
   "display_name": "Python 3 (ipykernel)",
   "language": "python",
   "name": "python3"
  },
  "language_info": {
   "codemirror_mode": {
    "name": "ipython",
    "version": 3
   },
   "file_extension": ".py",
   "mimetype": "text/x-python",
   "name": "python",
   "nbconvert_exporter": "python",
   "pygments_lexer": "ipython3",
   "version": "3.11.9"
  }
 },
 "nbformat": 4,
 "nbformat_minor": 4
}
